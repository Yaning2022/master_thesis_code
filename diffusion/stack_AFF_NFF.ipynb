{
 "cells": [
  {
   "cell_type": "code",
   "execution_count": null,
   "id": "fac1adef",
   "metadata": {},
   "outputs": [],
   "source": [
    "import os\n",
    "import numpy as np\n",
    "from PIL import Image\n",
    "\n",
    "# Paths to your folders\n",
    "NFF_folder = \"/proj/afraid/users/x_wayan/Data/NFF_resize\"\n",
    "AFF_folder = \"/proj/afraid/users/x_wayan/Data/AFF_resize\"\n",
    "output_folder = \"/proj/afraid/users/x_wayan/Data/stack_AFF_NFF\"\n",
    "\n",
    "# Load all images into numpy array\n",
    "def get_images(folder):\n",
    "    images = []\n",
    "    file_list = os.listdir(folder)\n",
    "    for filename in file_list:\n",
    "        img_path = os.path.join(folder, filename)\n",
    "        img = Image.open(img_path)\n",
    "        img = img.resize((64, 64), resample=Image.BILINEAR)\n",
    "        images.append(np.array(img))\n",
    "    return np.array(images)\n",
    "\n",
    "# Load A and B images\n",
    "NFF_images = get_images(NFF_folder)\n",
    "AFF_images = get_images(AFF_folder)\n",
    "print(NFF_images.shape)\n",
    "print(AFF_images.shape)\n"
   ]
  },
  {
   "cell_type": "code",
   "execution_count": null,
   "id": "08296ce5",
   "metadata": {},
   "outputs": [],
   "source": [
    "# Repeat AFF images to match NFF\n",
    "repeat_times = int(np.ceil(len(NFF_images) / len(AFF_images)))\n",
    "AFF_images_repeated = np.tile(AFF_images, (repeat_times, 1, 1))[:len(NFF_images)]\n",
    "\n",
    "# Zero channel\n",
    "zeros_channel = np.zeros_like(NFF_images, dtype=np.uint8)\n",
    "\n",
    "# Stack into 3-channel images\n",
    "output_images = np.stack([NFF_images, AFF_images_repeated, zeros_channel], axis=-1)\n",
    "print(output_images[0])\n"
   ]
  },
  {
   "cell_type": "code",
   "execution_count": null,
   "id": "bb43ad99",
   "metadata": {},
   "outputs": [],
   "source": [
    "# Save output images\n",
    "for idx, img in enumerate(output_images):\n",
    "    out_img = Image.fromarray(img)\n",
    "    out_img.save(os.path.join(output_folder, f\"stack_{idx:04d}.png\"))"
   ]
  }
 ],
 "metadata": {
  "language_info": {
   "name": "python"
  }
 },
 "nbformat": 4,
 "nbformat_minor": 5
}
