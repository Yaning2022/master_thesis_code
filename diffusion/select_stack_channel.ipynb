{
 "cells": [
  {
   "cell_type": "code",
   "execution_count": null,
   "id": "6214d46a",
   "metadata": {},
   "outputs": [],
   "source": [
    "import os\n",
    "import cv2\n",
    "import numpy as np\n",
    "\n",
    "# Input and output directories\n",
    "input_folder = '/proj/afraid/users/x_wayan/Results/diffusion/stack_AFF_NFF2/generate_images/stack_samples'\n",
    "output_folders = {\n",
    "    'stack_samples_channel0': '/proj/afraid/users/x_wayan/Results/diffusion/stack_AFF_NFF2/generate_images/stack_samples_channel0',\n",
    "    'stack_samples_channel1': '/proj/afraid/users/x_wayan/Results/diffusion/stack_AFF_NFF2/generate_images/stack_samples_channel1',\n",
    "    'stack_samples_channel2': '/proj/afraid/users/x_wayan/Results/diffusion/stack_AFF_NFF2/generate_images/stack_samples_channel2',\n",
    "}\n"
   ]
  },
  {
   "cell_type": "code",
   "execution_count": null,
   "id": "c6546699",
   "metadata": {},
   "outputs": [],
   "source": [
    "for filename in os.listdir(input_folder):\n",
    "    img_path = os.path.join(input_folder, filename)\n",
    "    img = cv2.imread(img_path, cv2.IMREAD_UNCHANGED)\n",
    "    #print(img)\n",
    "    #cv2.split(img) splits it into its separate channels\n",
    "    channels = cv2.split(img)\n",
    "    #print(channels[1].shape)\n",
    "    #print(channels)\n",
    "    #print(np.all(channels[2] == 0))\n",
    "    for i in range(3):\n",
    "        channel = channels[i]\n",
    "        stacked = np.stack([channel] * 3, axis=-1)\n",
    "        out_path = os.path.join(output_folders[f'stack_samples_channel{i}'], filename)\n",
    "        cv2.imwrite(out_path, stacked)"
   ]
  }
 ],
 "metadata": {
  "language_info": {
   "name": "python"
  }
 },
 "nbformat": 4,
 "nbformat_minor": 5
}
