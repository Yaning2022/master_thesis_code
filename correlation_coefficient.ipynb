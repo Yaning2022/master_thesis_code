{
 "cells": [
  {
   "cell_type": "code",
   "execution_count": null,
   "id": "e03dc020",
   "metadata": {},
   "outputs": [],
   "source": [
    "import numpy as np\n",
    "import cv2\n",
    "import matplotlib.pyplot as plt\n",
    "import os\n",
    "import seaborn as sns\n",
    "\n",
    "AFFgenerated_images_gan = \"/local/data1/yanwa579/Data/resnet50_data/train_gan_AFFpr00016_NFFpr00003/AFF\"\n",
    "AFFgenerated_images_diff = \"/local/data1/yanwa579/Data/generate_images/diffusion/AFF64run2NFF64run2/AFF\"\n",
    "AFFtrain_images = \"/local/data1/yanwa579/Data/AFF_train\"\n",
    "AFFtrain_images_64 = \"/local/data1/yanwa579/Data/AFF_train_color_64\"\n",
    "AFFtest_images = \"/local/data1/yanwa579/Data/AFF_test\"\n",
    "\n",
    "NFFgenerated_images_gan = \"/local/data1/yanwa579/Data/resnet50_data/train_gan_AFFpr00016_NFFpr00003/NFF\"\n",
    "NFFgenerated_images_diff = \"/local/data1/yanwa579/Data/generate_images/diffusion/AFF64run2NFF64run2/NFF\"\n",
    "NFFtrain_images = \"/local/data1/yanwa579/Data/NFF_train\"\n",
    "NFFtrain_images_64 = \"/local/data1/yanwa579/Data/NFF_train_color_64\"\n",
    "NFFtest_images = \"/local/data1/yanwa579/Data/NFF_test\"\n"
   ]
  },
  {
   "cell_type": "code",
   "execution_count": null,
   "id": "767ae072",
   "metadata": {},
   "outputs": [],
   "source": [
    "def get_images(source_folder):\n",
    "    # group_a_images = group_a_images[:n_images]\n",
    "    dataset = []\n",
    "    #use os.listdir to obtain a list of images' names\n",
    "    for filename in os.listdir(source_folder):\n",
    "        #get the image path:   /local/data1/yanwa579/Data/../patient...png\n",
    "        image_path = os.path.join(source_folder, filename)\n",
    "        # Read the image\n",
    "        images = cv2.imread(image_path,cv2.IMREAD_GRAYSCALE)\n",
    "        flat_img = images.flatten()\n",
    "        dataset.append(flat_img)\n",
    "    return dataset\n",
    "\n",
    "\n"
   ]
  },
  {
   "cell_type": "code",
   "execution_count": null,
   "id": "eeb6189c",
   "metadata": {},
   "outputs": [],
   "source": [
    "# Calculate correlation coefficients\n",
    "def correlation_values(dataset_a,dataset_b):\n",
    "    #a list of max correlation values\n",
    "    corr_coeff = []\n",
    "    for a_img in dataset_a:\n",
    "        max_corr = -1.0\n",
    "        for b_img in dataset_b:\n",
    "            corr_matrix = np.corrcoef(a_img + 1e-4, b_img + 1e-4)\n",
    "            corr_coef = corr_matrix[0, 1]\n",
    "            if corr_coef > 1 or corr_coef < -1:\n",
    "                print(corr_coef)\n",
    "            if corr_coef > max_corr:\n",
    "                max_corr = corr_coef\n",
    "        corr_coeff.append(max_corr)\n",
    "    return corr_coeff"
   ]
  },
  {
   "cell_type": "code",
   "execution_count": null,
   "id": "b3331cb8",
   "metadata": {},
   "outputs": [],
   "source": [
    "AFFgenerated_images_gan=get_images(AFFgenerated_images_gan)\n",
    "AFFgenerated_images_diff=get_images(AFFgenerated_images_diff)\n",
    "AFFtrain_images=get_images(AFFtrain_images)\n",
    "AFFtrain_images_64=get_images(AFFtrain_images_64)\n",
    "AFFtest_images=get_images(AFFtest_images)\n",
    "\n",
    "NFFgenerated_images_gan=get_images(NFFgenerated_images_gan)\n",
    "NFFgenerated_images_diff=get_images(NFFgenerated_images_diff)\n",
    "NFFtrain_images=get_images(NFFtrain_images)\n",
    "NFFtrain_images_64=get_images(NFFtrain_images_64)\n",
    "NFFtest_images=get_images(NFFtest_images)"
   ]
  },
  {
   "cell_type": "code",
   "execution_count": null,
   "id": "e2c8dace",
   "metadata": {},
   "outputs": [],
   "source": [
    "AFFcorr_coeffs_trian_test = correlation_values(AFFtrain_images,AFFtest_images)\n",
    "AFFcorr_coeffs_train_diff= correlation_values(AFFtrain_images_64,AFFgenerated_images_diff)\n",
    "AFFcorr_coeffs_train_gan = correlation_values(AFFtrain_images,AFFgenerated_images_gan)\n",
    "\n",
    "NFFcorr_coeffs_trian_test = correlation_values(NFFtrain_images,NFFtest_images)\n",
    "NFFcorr_coeffs_train_diff= correlation_values(NFFtrain_images_64,NFFgenerated_images_diff)\n",
    "NFFcorr_coeffs_train_gan = correlation_values(NFFtrain_images,NFFgenerated_images_gan)"
   ]
  },
  {
   "cell_type": "code",
   "execution_count": null,
   "id": "3887f222",
   "metadata": {},
   "outputs": [],
   "source": [
    "sns.set_style('darkgrid')\n",
    "sns.set_palette('bright')\n",
    "fig, ax = plt.subplots()\n",
    "\n",
    "sns.kdeplot(AFFcorr_coeffs_trian_test, fill=True, alpha=0.5, label='trian_test', ax=ax)\n",
    "sns.kdeplot(AFFcorr_coeffs_train_diff, fill=True, alpha=0.3, label='train_diff', ax=ax)\n",
    "sns.kdeplot(AFFcorr_coeffs_train_gan, fill=True, alpha=0.5, label='train_gan', ax=ax)\n",
    "\n",
    "# Plot density distribution of correlation coefficients\n",
    "\n",
    "ax.set_xlabel('The Highest Correlation Coefficient for AFF')\n",
    "ax.set_ylabel('Frequency')\n",
    "plt.xlim(0.3, 1.2)\n",
    "# Show legend\n",
    "plt.legend(loc='upper left')\n",
    "# Show the plot\n",
    "plt.show()\n"
   ]
  },
  {
   "cell_type": "code",
   "execution_count": null,
   "id": "e7fe9a53",
   "metadata": {},
   "outputs": [],
   "source": [
    "sns.set_style('darkgrid')\n",
    "sns.set_palette('bright')\n",
    "fig, ax = plt.subplots()\n",
    "\n",
    "sns.kdeplot(NFFcorr_coeffs_trian_test, fill=True, alpha=0.5, label='trian_test', ax=ax)\n",
    "sns.kdeplot(NFFcorr_coeffs_train_diff, fill=True, alpha=0.3, label='train_diff', ax=ax)\n",
    "sns.kdeplot(NFFcorr_coeffs_train_gan, fill=True, alpha=0.5, label='train_gan', ax=ax)\n",
    "\n",
    "# Plot density distribution of correlation coefficients\n",
    "\n",
    "ax.set_xlabel('The Highest Correlation Coefficient for NFF')\n",
    "ax.set_ylabel('Frequency')\n",
    "plt.xlim(0.3, 1.2)\n",
    "# Show legend\n",
    "plt.legend(loc='upper left')\n",
    "# Show the plot\n",
    "plt.show()"
   ]
  }
 ],
 "metadata": {
  "language_info": {
   "name": "python"
  }
 },
 "nbformat": 4,
 "nbformat_minor": 5
}
