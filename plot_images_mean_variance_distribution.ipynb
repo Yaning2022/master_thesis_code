{
 "cells": [
  {
   "cell_type": "code",
   "execution_count": null,
   "metadata": {},
   "outputs": [],
   "source": [
    "import cv2\n",
    "import os\n",
    "import numpy as np\n",
    "\n",
    "\n",
    "def calculate_mean_var(source_folder):\n",
    "    means = []\n",
    "    varances = []\n",
    "    #use os.listdir to obtain a list of images' names\n",
    "    for filename in os.listdir(source_folder):\n",
    "        #get the image path:   /local/data1/yanwa579/Data/../patient...png\n",
    "        image_path = os.path.join(source_folder, filename)   \n",
    "        # Read the image\n",
    "        image = cv2.imread(image_path,cv2.IMREAD_GRAYSCALE)\n",
    "        mean = np.mean(image)\n",
    "        variance = np.var(image)\n",
    "        means.append(mean)\n",
    "        varances.append(variance)\n",
    "    return means,varances\n",
    "\n",
    "real_AFF_path = \"/local/data1/yanwa579/Data/resnet50_data/train/AFF\"\n",
    "real_NFF_path = \"/local/data1/yanwa579/Data/resnet50_data/train/NFF\"\n",
    "gan_AFF_path = \"/local/data1/yanwa579/Data/resnet50_data/train_gan_label/AFF\"\n",
    "gan_NFF_path = \"/local/data1/yanwa579/Data/resnet50_data/train_gan_label/NFF\"\n",
    "\n",
    "real_AFF_means, real_AFF_variances= calculate_mean_var(real_AFF_path)\n",
    "real_NFF_means, real_NFF_variances= calculate_mean_var(real_NFF_path)\n",
    "gan_AFF_means, gan_AFF_variances= calculate_mean_var(gan_AFF_path)\n",
    "gan_NFF_means, gan_NFF_variances= calculate_mean_var(gan_NFF_path)\n",
    "\n"
   ]
  },
  {
   "cell_type": "code",
   "execution_count": null,
   "metadata": {},
   "outputs": [],
   "source": [
    "import matplotlib.pyplot as plt\n",
    "import seaborn as sns\n",
    "\n",
    "\n",
    "sns.kdeplot(real_AFF_means, color='blue', label='real_AFF_means', linewidth=2)\n",
    "sns.kdeplot(gan_AFF_means, color='red', label='gan_AFF_means', linewidth=2)\n",
    "\n",
    "\n",
    "# Adding labels and title\n",
    "plt.title('Distribution of real_AFF_means and gan_AFF_means')\n",
    "plt.xlabel('mean of the images')\n",
    "plt.ylabel('Density')\n",
    "\n",
    "# Show the legend\n",
    "plt.legend()\n",
    "\n",
    "# Show the plot\n",
    "plt.show()"
   ]
  },
  {
   "cell_type": "code",
   "execution_count": null,
   "metadata": {},
   "outputs": [],
   "source": [
    "sns.kdeplot(real_AFF_variances, color='blue', label='real_AFF_variances', linewidth=2)\n",
    "sns.kdeplot(gan_AFF_variances, color='red', label='gan_AFF_variances', linewidth=2)\n",
    "\n",
    "\n",
    "# Adding labels and title\n",
    "plt.title('Distribution of real_AFF_variances and gan_AFF_variances')\n",
    "plt.xlabel('variance of the images')\n",
    "plt.ylabel('Density')\n",
    "\n",
    "# Show the legend\n",
    "plt.legend()\n",
    "\n",
    "# Show the plot\n",
    "plt.show()"
   ]
  },
  {
   "cell_type": "code",
   "execution_count": null,
   "metadata": {},
   "outputs": [],
   "source": [
    "sns.kdeplot(real_NFF_means, color='blue', label='real_NFF_means', linewidth=2)\n",
    "sns.kdeplot(gan_NFF_means, color='red', label='gan_NFF_means', linewidth=2)\n",
    "\n",
    "\n",
    "# Adding labels and title\n",
    "plt.title('Distribution of real_NFF_means and gan_NFF_means')\n",
    "plt.xlabel('mean of the images')\n",
    "plt.ylabel('Density')\n",
    "\n",
    "# Show the legend\n",
    "plt.legend()\n",
    "\n",
    "# Show the plot\n",
    "plt.show()"
   ]
  },
  {
   "cell_type": "code",
   "execution_count": null,
   "metadata": {},
   "outputs": [],
   "source": [
    "sns.kdeplot(real_NFF_variances, color='blue', label='real_NFF_variances', linewidth=2)\n",
    "sns.kdeplot(gan_NFF_variances, color='red', label='gan_NFF_variances', linewidth=2)\n",
    "\n",
    "\n",
    "# Adding labels and title\n",
    "plt.title('Distribution of real_NFF_variances and gan_NFF_variances')\n",
    "plt.xlabel('variance of the images')\n",
    "plt.ylabel('Density')\n",
    "\n",
    "# Show the legend\n",
    "plt.legend()\n",
    "\n",
    "# Show the plot\n",
    "plt.show()"
   ]
  }
 ],
 "metadata": {
  "language_info": {
   "name": "python"
  }
 },
 "nbformat": 4,
 "nbformat_minor": 2
}
