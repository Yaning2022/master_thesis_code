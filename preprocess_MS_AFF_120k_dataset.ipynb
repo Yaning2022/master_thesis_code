{
 "cells": [
  {
   "cell_type": "code",
   "execution_count": null,
   "id": "685e54e8",
   "metadata": {},
   "outputs": [],
   "source": [
    "import os\n",
    "import cv2\n",
    "\n",
    "source_folder = '/proj/afraid/users/common/Data/MS_AFF_120k_dataset'\n",
    "destination_folder = '/proj/afraid/users/x_wayan/Data/MS_AFF_120k_dataset_color'\n",
    "\n",
    "# Process each PNG file in the source folder\n",
    "for filename in os.listdir(source_folder):\n",
    "    img_path = os.path.join(source_folder, filename)\n",
    "    gray = cv2.imread(img_path, cv2.IMREAD_GRAYSCALE)\n",
    "    # Stack the grayscale channel into 3 channels\n",
    "    color_img = cv2.merge([gray, gray, gray])\n",
    "    output_path = os.path.join(destination_folder, filename)\n",
    "    cv2.imwrite(output_path, color_img)\n",
    "\n",
    "    # check the properties of the image in terminal\n",
    "    # identify UPPSALA_9_f44b2e802446_37e9e7962b14_1_CR.png"
   ]
  },
  {
   "cell_type": "code",
   "execution_count": null,
   "id": "2098959b",
   "metadata": {},
   "outputs": [],
   "source": [
    "#randomly select 3000 images from the dataset which contain color images\n",
    "import os\n",
    "import shutil\n",
    "import random\n",
    "\n",
    "source_folder = '/proj/afraid/users/x_wayan/Data/MS_AFF_120k_dataset_color'\n",
    "destination_folder = '/proj/afraid/users/x_wayan/Data/MS_AFF_120k_dataset_color_3000'\n",
    "\n",
    "image_files = [f for f in os.listdir(source_folder)]\n",
    "\n",
    "# Randomly select 3000 images\n",
    "selected_files = random.sample(image_files, 3000)\n",
    "\n",
    "# Copy them to destination folder\n",
    "for filename in selected_files:\n",
    "    src_path = os.path.join(source_folder, filename)\n",
    "    dst_path = os.path.join(destination_folder, filename)\n",
    "    shutil.copy2(src_path, dst_path)\n",
    "#check in terminal:ls -1 | wc -l"
   ]
  },
  {
   "cell_type": "code",
   "execution_count": null,
   "id": "c5a864c5",
   "metadata": {},
   "outputs": [],
   "source": [
    "#change the shape of the image from 256*256 to 64*64\n",
    "import os\n",
    "from PIL import Image\n",
    "\n",
    "source_folder = '/proj/afraid/users/x_wayan/Data/MS_AFF_120k_dataset_color'\n",
    "destination_folder = '/proj/afraid/users/x_wayan/Data/MS_AFF_120k_dataset_color_64'\n",
    "#source_folder = '/proj/afraid/users/x_wayan/Data/MS_AFF_120k_dataset_color_3000'\n",
    "#destination_folder = '/proj/afraid/users/x_wayan/Data/MS_AFF_120k_dataset_color_3000_64'\n",
    "\n",
    "# Get list of image files \n",
    "image_files = [f for f in os.listdir(source_folder)]\n",
    "\n",
    "# Process each image in the folder\n",
    "for filename in image_files:\n",
    "    img_path = os.path.join(source_folder, filename)\n",
    "    img = Image.open(img_path)\n",
    "    img_resized = img.resize((64, 64))\n",
    "    output_path = os.path.join(destination_folder, filename)\n",
    "    img_resized.save(output_path)"
   ]
  }
 ],
 "metadata": {
  "language_info": {
   "name": "python"
  }
 },
 "nbformat": 4,
 "nbformat_minor": 5
}
